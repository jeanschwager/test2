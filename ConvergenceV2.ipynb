{
 "cells": [
  {
   "cell_type": "code",
   "execution_count": 5,
   "metadata": {},
   "outputs": [],
   "source": [
    "import os \n",
    "import matplotlib.pyplot as plt\n",
    "import numpy as np\n",
    "import dolfin\n",
    "import mesher\n",
    "\n",
    "import pylab as p\n",
    "import plotslopes\n",
    "\n",
    "%matplotlib inline\n",
    "plt.rcParams['figure.figsize']=(12, 8)"
   ]
  },
  {
   "cell_type": "code",
   "execution_count": 6,
   "metadata": {},
   "outputs": [],
   "source": [
    "def exact_solution(degree,pars_ex):\n",
    "    radius=1.\n",
    "    pin=pars_ex['pin']\n",
    "    pout=pars_ex['pout']\n",
    "    nu=pars_ex['nu']\n",
    "    rho = pars_ex['thickness']\n",
    "    \n",
    "    # Elasticity parameters\n",
    "    E=dolfin.Constant(1.)\n",
    "    mu = (E)/(2*(1.0+nu))\n",
    "    \n",
    "    p = (float(pin)+float(pout))/2.\n",
    "    varpi = (float(pin)-float(pout))/p\n",
    "    A = p*(1-2*float(nu))*(varpi/2./rho*(1+(rho/2)**2)-1)/2./float(mu)\n",
    "    B = p*varpi*radius**2*((rho/2)**2-1)**2/8./(rho/2)/float(mu)\n",
    "    \n",
    "    r_ = dolfin.Expression(\"sqrt(pow(x[0], 2)+pow(x[1], 2))\",degree=degree)\n",
    "    theta_ = dolfin.Expression(\"atan2(x[1], x[0])\",degree=degree)\n",
    "    u_r_ref = dolfin.Expression(\"A*r+B/r\",r=r_,A=A,B=B,degree=degree)\n",
    "    u_ref = dolfin.Expression((\"u*cos(theta)\",\"u*sin(theta)\"),\n",
    "                          u=u_r_ref,theta=theta_,degree=degree)\n",
    "    return u_ref"
   ]
  },
  {
   "cell_type": "code",
   "execution_count": 7,
   "metadata": {},
   "outputs": [],
   "source": [
    "def fe_solution(ndiv,pars_fe):\n",
    "    \n",
    "    def eps(u):\n",
    "        return dolfin.sym(dolfin.grad(u))\n",
    "    \n",
    "    def sig(epsilon):\n",
    "        return 2*mu*epsilon + lmbda*dolfin.tr(epsilon)*dolfin.Identity(ndim)\n",
    "    \n",
    "    def sig_devi(sigma):\n",
    "        return sigma-((1./3.)*dolfin.tr(sigma)*dolfin.Identity(ndim))\n",
    "    \n",
    "    def sig_isot(sigma):\n",
    "        return (1./3.)*dolfin.tr(sigma)*dolfin.Identity(ndim)\n",
    "    r=1.\n",
    "    h=pars_fe['thickness']/ndiv\n",
    "    rho=pars_fe['thickness']/r\n",
    "    nu = pars_fe['nu']\n",
    "    pars = {\"h\": h, \"rho\": rho}\n",
    "    \n",
    "    meshname = mesher.generate_mesh_gmsh_tube(\"meshes/tube\", pars)\n",
    "    mesh = dolfin.Mesh(meshname + \".xml\")\n",
    "    boundaries = dolfin.MeshFunction(\"size_t\", mesh, meshname + \"_facet_region\"+\".xml\")\n",
    "    domains = dolfin.MeshFunction(\"size_t\", mesh, meshname + \"_physical_region\"+\".xml\")\n",
    "\n",
    "    dolfin.File(os.path.join(os.path.dirname(meshname), \"boundaries.pvd\")) << boundaries\n",
    "    dolfin.File(os.path.join(os.path.dirname(meshname), \"domains.pvd\")) << domains\n",
    "\n",
    "    with dolfin.XDMFFile(mesh.mpi_comm(), \"output/boundaries.xdmf\") as file: \n",
    "        file.write(boundaries)\n",
    "\n",
    "    # Elasticity parameters\n",
    "    E=dolfin.Constant(1.)\n",
    "\n",
    "    mu = (E)/(2*(1.0+nu))\n",
    "    lmbda = (E*nu)/((1.0+nu)*(1.0-2.0*nu))\n",
    "    \n",
    "    # Stress / Strain\n",
    "    ndim = 2\n",
    "\n",
    "    \n",
    "    # Create element\n",
    "    element = dolfin.VectorElement(\"P\", dolfin.triangle, pars_fe['degree'], dim=2)\n",
    "    #dim c'est dimension des inconnu nodale ux et uy\n",
    "\n",
    "    # Create function space\n",
    "    V = dolfin.FunctionSpace(mesh, element)\n",
    "\n",
    "    # Create test and trial functions, and source term\n",
    "    u_ = dolfin.TrialFunction(V)\n",
    "    v = dolfin.TestFunction(V)\n",
    "\n",
    "    # Define the bilinear form for the problem\n",
    "    a = dolfin.inner(sig(eps(u_)), eps(v))*dolfin.dx \n",
    "\n",
    "    # Parameters\n",
    "    p_out = dolfin.Constant(0.)\n",
    "    p_in = dolfin.Constant(1.)\n",
    "    ds = dolfin.Measure(\"ds\", subdomain_data=boundaries)\n",
    "    #ds element de surface mais ici prend boundaries en parametre\n",
    "    #boundarises renvoi pour chaque élément \n",
    "    #1,2,3 ou 4 en fonction de son appartenance au bord\n",
    "    n = dolfin.FacetNormal(mesh)\n",
    "\n",
    "    # Weak formulation\n",
    "    L = dolfin.inner(-p_in*n, v)*ds(4)+dolfin.inner(-p_out*n, v)*ds(2)\n",
    "\n",
    "    bcs = [dolfin.DirichletBC(V.sub(0), 0., boundaries, 3),\n",
    "           dolfin.DirichletBC(V.sub(1), 0., boundaries, 1)]\n",
    "\n",
    "    # Set up PDE and solve\n",
    "    u_num = dolfin.Function(V)\n",
    "    problem = dolfin.LinearVariationalProblem(a, L, u_num, bcs)\n",
    "    # solver\n",
    "    solver = dolfin.LinearVariationalSolver(problem)\n",
    "    #  define le solver ex: LU ou gradient\n",
    "    solver.solve()\n",
    "    pars_ex = {\"thickness\": 0.5, \"nu\": 0.3, \"pin\": 1., \"pout\": 0}\n",
    "    u_exact= exact_solution(pars_fe['degree'],pars_ex)\n",
    "    error_h1 = dolfin.errornorm(u_exact, u_num, norm_type = \"H1\")\n",
    "    error_L2 = dolfin.errornorm(u_exact, u_num, norm_type = \"L2\")\n",
    "\n",
    "    epsilon=eps(u_num)\n",
    "    sigma=sig(epsilon)\n",
    "    deviatoric=sig_devi(sigma)\n",
    "    isotropic=sig_isot(sigma)\n",
    "       \n",
    "    return 1.0 / ndiv , error_h1 , error_L2\n",
    "\n"
   ]
  },
  {
   "cell_type": "code",
   "execution_count": 8,
   "metadata": {},
   "outputs": [],
   "source": [
    "#exact_solution(1,pars_ex)\n",
    "#pars_fe = {\"thickness\": 0.5, \"degree\": 1, \"nu\": 0.3}\n",
    "#fe_solution(2,pars_fe)\n",
    "#u_num, erreurh1, erreurL2 = fe_solution(1, pars_fe)"
   ]
  },
  {
   "cell_type": "code",
   "execution_count": 9,
   "metadata": {},
   "outputs": [],
   "source": [
    "pars_ex= {\"thickness\": 0.5, \"nu\": 0.3, \"pin\": dolfin.Constant(1.), \"pout\": dolfin.Constant(0.)}\n",
    "pars_fe_P1 = {\"thickness\": 0.5, \"degree\": 1, \"nu\": 0.3}\n",
    "pars_fe_P2 = {\"thickness\": 0.5, \"degree\": 2, \"nu\": 0.3}\n",
    "a_P1, erreurH1_P1, erreurL2_P1 = zip(*[fe_solution(n, pars_fe_P1) for n in [2, 4, 8,16]])\n",
    "a_P2, erreurH1_P2, erreurL2_P2 = zip(*[fe_solution(n, pars_fe_P2) for n in [2, 4, 8,16]])"
   ]
  },
  {
   "cell_type": "code",
   "execution_count": 8,
   "metadata": {},
   "outputs": [
    {
     "name": "stderr",
     "output_type": "stream",
     "text": [
      "/usr/local/lib/python3.6/dist-packages/ipykernel_launcher.py:5: MatplotlibDeprecationWarning: pyplot.hold is deprecated.\n",
      "    Future behavior will be consistent with the long-time default:\n",
      "    plot commands add elements without first clearing the\n",
      "    Axes and/or Figure.\n",
      "  \"\"\"\n",
      "/usr/lib/python3/dist-packages/matplotlib/__init__.py:806: MatplotlibDeprecationWarning: axes.hold is deprecated. Please remove it from your matplotlibrc and/or style files.\n",
      "  mplDeprecation)\n",
      "/usr/lib/python3/dist-packages/matplotlib/rcsetup.py:155: MatplotlibDeprecationWarning: axes.hold is deprecated, will be removed in 3.0\n",
      "  mplDeprecation)\n"
     ]
    },
    {
     "data": {
      "image/png": "[encoded data removed]",
      "text/plain": [
       "<matplotlib.figure.Figure at 0x7fed9fd629e8>"
      ]
     },
     "metadata": {
      "needs_background": "light"
     },
     "output_type": "display_data"
    }
   ],
   "source": [
    "# Plot results\n",
    "enable_plot = True\n",
    "\n",
    "if enable_plot:\n",
    "    p.hold(True)\n",
    "    p.loglog(a_P1, erreurH1_P1, 'r-o')\n",
    "    p.loglog(a_P1, erreurL2_P1, 'b-o')\n",
    "    p.loglog(a_P2, erreurH1_P2, 'g-o')\n",
    "    p.loglog(a_P2, erreurL2_P2, 'm-o')\n",
    "    p.legend([\"H1 P1\", \"L2 P1\" ,\"H1 P2\",\"L2 P2\"], loc=\"lower right\")\n",
    "    p.xlabel(\"h\")\n",
    "    p.ylabel(\"e\")\n",
    "    p.grid(True)\n",
    "    p.show()"
   ]
  },
  {
   "cell_type": "code",
   "execution_count": 9,
   "metadata": {},
   "outputs": [],
   "source": [
    "def eps(u):\n",
    "        return dolfin.sym(dolfin.grad(u))\n",
    "    \n",
    "def sig(epsilon):\n",
    "        return 2*mu*epsilon + lmbda*dolfin.tr(epsilon)*dolfin.Identity(ndim)\n",
    "    \n",
    "def sig_devi(sigma):\n",
    "        return sigma-((1./3.)*tr(sigma)*dolfin.Identity(ndim))\n",
    "\n",
    "def sig_isot(sigma):\n",
    "        return (1./3.)*tr(sigma)*dolfin.Identity(ndim)"
   ]
  },
  {
   "cell_type": "code",
   "execution_count": 10,
   "metadata": {},
   "outputs": [],
   "source": [
    "pars_ex= {\"thickness\": 0.5, \"nu\": 0.48, \"pin\": dolfin.Constant(1.), \"pout\": dolfin.Constant(0.)}\n",
    "pars_fe_P1 = {\"thickness\": 0.5, \"degree\": 1, \"nu\": 0.48}\n",
    "pars_fe_P2 = {\"thickness\": 0.5, \"degree\": 2, \"nu\": 0.48}\n",
    "a_P12, erreurH1_P12, erreurL2_P12 = zip(*[fe_solution(n, pars_fe_P1) for n in [2, 4, 8,16]])\n",
    "a_P22, erreurH1_P22, erreurL2_P22 = zip(*[fe_solution(n, pars_fe_P2) for n in [2, 4, 8,16]])"
   ]
  },
  {
   "cell_type": "code",
   "execution_count": 11,
   "metadata": {},
   "outputs": [
    {
     "name": "stderr",
     "output_type": "stream",
     "text": [
      "/usr/local/lib/python3.6/dist-packages/ipykernel_launcher.py:4: MatplotlibDeprecationWarning: pyplot.hold is deprecated.\n",
      "    Future behavior will be consistent with the long-time default:\n",
      "    plot commands add elements without first clearing the\n",
      "    Axes and/or Figure.\n",
      "  after removing the cwd from sys.path.\n"
     ]
    },
    {
     "data": {
      "image/png": "[encoded data removed]",
      "text/plain": [
       "<matplotlib.figure.Figure at 0x7fed9cdad320>"
      ]
     },
     "metadata": {
      "needs_background": "light"
     },
     "output_type": "display_data"
    }
   ],
   "source": [
    "# Plot results\n",
    "enable_plot = True\n",
    "if enable_plot:\n",
    "    p.hold(True)\n",
    "    p.loglog(a_P12, erreurH1_P12, 'r-o')\n",
    "    p.loglog(a_P12, erreurL2_P12, 'b-o')\n",
    "    p.loglog(a_P22, erreurH1_P22, 'g-o')\n",
    "    p.loglog(a_P22, erreurL2_P22, 'm-o')\n",
    "    p.legend([\"H1 P1\", \"L2 P1\" ,\"H1 P2\",\"L2 P2\"], loc=\"lower right\")\n",
    "    p.xlabel(\"h\")\n",
    "    p.ylabel(\"e\")\n",
    "    p.grid(True)\n",
    "    p.show()"
   ]
  },
  {
   "cell_type": "code",
   "execution_count": 74,
   "metadata": {},
   "outputs": [
    {
     "data": {
      "image/png": "[encoded data removed]",
      "text/plain": [
       "<matplotlib.figure.Figure at 0x7f2fd0558860>"
      ]
     },
     "metadata": {
      "needs_background": "light"
     },
     "output_type": "display_data"
    }
   ],
   "source": [
    "dolfin.plot(u_num1[0], mode = \"displacement\");"
   ]
  },
  {
   "cell_type": "code",
   "execution_count": 73,
   "metadata": {},
   "outputs": [],
   "source": [
    "def fe_solution2(ndiv,pars_fe):\n",
    "    \n",
    "    def eps(u):\n",
    "        return dolfin.sym(dolfin.grad(u))\n",
    "    \n",
    "    def sig(epsilon):\n",
    "        return 2*mu*epsilon + lmbda*dolfin.tr(epsilon)*dolfin.Identity(ndim)\n",
    "    \n",
    "    def sig_devi(sigma):\n",
    "        return sigma-((1./3.)*dolfin.tr(sigma)*dolfin.Identity(ndim))\n",
    "    \n",
    "    def sig_isot(sigma):\n",
    "        return (1./3.)*dolfin.tr(sigma)*dolfin.Identity(ndim)\n",
    "    r=1.\n",
    "    h=pars_fe['thickness']/ndiv\n",
    "    rho=pars_fe['thickness']/r\n",
    "    nu = pars_fe['nu']\n",
    "    pars = {\"h\": h, \"rho\": rho}\n",
    "    \n",
    "    meshname = mesher.generate_mesh_gmsh_tube(\"meshes/tube\", pars)\n",
    "    mesh = dolfin.Mesh(meshname + \".xml\")\n",
    "    boundaries = dolfin.MeshFunction(\"size_t\", mesh, meshname + \"_facet_region\"+\".xml\")\n",
    "    domains = dolfin.MeshFunction(\"size_t\", mesh, meshname + \"_physical_region\"+\".xml\")\n",
    "\n",
    "    dolfin.File(os.path.join(os.path.dirname(meshname), \"boundaries.pvd\")) << boundaries\n",
    "    dolfin.File(os.path.join(os.path.dirname(meshname), \"domains.pvd\")) << domains\n",
    "\n",
    "    with dolfin.XDMFFile(mesh.mpi_comm(), \"output/boundaries.xdmf\") as file: \n",
    "        file.write(boundaries)\n",
    "\n",
    "    # Elasticity parameters\n",
    "    E=dolfin.Constant(1.)\n",
    "\n",
    "    mu = (E)/(2*(1.0+nu))\n",
    "    lmbda = (E*nu)/((1.0+nu)*(1.0-2.0*nu))\n",
    "    \n",
    "    # Stress / Strain\n",
    "    ndim = 2\n",
    "\n",
    "    \n",
    "    # Create element\n",
    "    element = dolfin.VectorElement(\"P\", dolfin.triangle, pars_fe['degree'], dim=2)\n",
    "    #dim c'est dimension des inconnu nodale ux et uy\n",
    "\n",
    "    # Create function space\n",
    "    V = dolfin.FunctionSpace(mesh, element)\n",
    "\n",
    "    # Create test and trial functions, and source term\n",
    "    u_ = dolfin.TrialFunction(V)\n",
    "    v = dolfin.TestFunction(V)\n",
    "\n",
    "    # Define the bilinear form for the problem\n",
    "    a = dolfin.inner(sig(eps(u_)), eps(v))*dolfin.dx \n",
    "\n",
    "    # Parameters\n",
    "    p_out = dolfin.Constant(0.)\n",
    "    p_in = dolfin.Constant(1.)\n",
    "    ds = dolfin.Measure(\"ds\", subdomain_data=boundaries)\n",
    "    #ds element de surface mais ici prend boundaries en parametre\n",
    "    #boundarises renvoi pour chaque élément \n",
    "    #1,2,3 ou 4 en fonction de son appartenance au bord\n",
    "    n = dolfin.FacetNormal(mesh)\n",
    "\n",
    "    # Weak formulation\n",
    "    L = dolfin.inner(-p_in*n, v)*ds(4)+dolfin.inner(-p_out*n, v)*ds(2)\n",
    "\n",
    "    bcs = [dolfin.DirichletBC(V.sub(0), 0., boundaries, 3),\n",
    "           dolfin.DirichletBC(V.sub(1), 0., boundaries, 1)]\n",
    "\n",
    "    # Set up PDE and solve\n",
    "    u_num = dolfin.Function(V)\n",
    "    problem = dolfin.LinearVariationalProblem(a, L, u_num, bcs)\n",
    "    # solver\n",
    "    solver = dolfin.LinearVariationalSolver(problem)\n",
    "    #  define le solver ex: LU ou gradient\n",
    "    solver.solve()\n",
    "    pars_ex = {\"thickness\": 0.5, \"nu\": 0.3, \"pin\": 1., \"pout\": 0}\n",
    "    u_exact= exact_solution(pars_fe['degree'],pars_ex)\n",
    "    error_h1 = dolfin.errornorm(u_exact, u_num, norm_type = \"H1\")\n",
    "    error_L2 = dolfin.errornorm(u_exact, u_num, norm_type = \"L2\")\n",
    "\n",
    "    epsilon=eps(u_num)\n",
    "    sigma=sig(epsilon)\n",
    "    deviatoric=sig_devi(sigma)\n",
    "    isotropic=sig_isot(sigma)\n",
    "    T = dolfin.TensorFunctionSpace(mesh, 'CG', 1)\n",
    "       \n",
    "    return 1.0 / ndiv , error_h1 , error_L2, epsilon,sigma,u_num ,T, mesh"
   ]
  },
  {
   "cell_type": "code",
   "execution_count": 74,
   "metadata": {},
   "outputs": [],
   "source": [
    "pars_fe = {\"thickness\": 0.5, \"degree\": 1, \"nu\": 0.3}\n",
    "a_P12, erreurH1_P12, erreurL2_P12,epsilon,sigma,u_num,T,mesh = zip(*[fe_solution2(n, pars_fe_P1) for n in [4]])"
   ]
  },
  {
   "cell_type": "code",
   "execution_count": 69,
   "metadata": {},
   "outputs": [
    {
     "data": {
      "image/png": "[encoded data removed]",
      "text/plain": [
       "<matplotlib.figure.Figure at 0x7fed97510a90>"
      ]
     },
     "metadata": {
      "needs_background": "light"
     },
     "output_type": "display_data"
    }
   ],
   "source": [
    "dolfin.plot(0.1*epsilon[0], mode = \"strain\");"
   ]
  },
  {
   "cell_type": "code",
   "execution_count": 68,
   "metadata": {},
   "outputs": [
    {
     "ename": "AttributeError",
     "evalue": "'tuple' object has no attribute 'mesh'",
     "output_type": "error",
     "traceback": [
      "\u001b[0;31m---------------------------------------------------------------------------\u001b[0m",
      "\u001b[0;31mAttributeError\u001b[0m                            Traceback (most recent call last)",
      "\u001b[0;32m<ipython-input-68-3c008155561f>\u001b[0m in \u001b[0;36m<module>\u001b[0;34m\u001b[0m\n\u001b[0;32m----> 1\u001b[0;31m \u001b[0mstress\u001b[0m \u001b[0;34m=\u001b[0m \u001b[0mdolfin\u001b[0m\u001b[0;34m.\u001b[0m\u001b[0mproject\u001b[0m\u001b[0;34m(\u001b[0m\u001b[0msigma\u001b[0m\u001b[0;34m[\u001b[0m\u001b[0;36m0\u001b[0m\u001b[0;34m]\u001b[0m\u001b[0;34m,\u001b[0m\u001b[0mT\u001b[0m\u001b[0;34m)\u001b[0m\u001b[0;34m\u001b[0m\u001b[0m\n\u001b[0m\u001b[1;32m      2\u001b[0m \u001b[0mFile\u001b[0m\u001b[0;34m(\u001b[0m\u001b[0;34m\"stress.pvd\"\u001b[0m\u001b[0;34m)\u001b[0m \u001b[0;34m<<\u001b[0m \u001b[0mstress\u001b[0m\u001b[0;34m\u001b[0m\u001b[0m\n\u001b[1;32m      3\u001b[0m \u001b[0mM\u001b[0m \u001b[0;34m=\u001b[0m \u001b[0mstress\u001b[0m\u001b[0;34m.\u001b[0m\u001b[0mvector\u001b[0m\u001b[0;34m(\u001b[0m\u001b[0;34m)\u001b[0m\u001b[0;34m.\u001b[0m\u001b[0marray\u001b[0m\u001b[0;34m(\u001b[0m\u001b[0;34m)\u001b[0m\u001b[0;34m\u001b[0m\u001b[0m\n\u001b[1;32m      4\u001b[0m \u001b[0mprint\u001b[0m\u001b[0;34m(\u001b[0m\u001b[0mM\u001b[0m\u001b[0;34m)\u001b[0m\u001b[0;34m\u001b[0m\u001b[0m\n",
      "\u001b[0;32m/usr/lib/python3/dist-packages/dolfin/fem/projection.py\u001b[0m in \u001b[0;36mproject\u001b[0;34m(v, V, bcs, mesh, function, solver_type, preconditioner_type, form_compiler_parameters)\u001b[0m\n\u001b[1;32m    120\u001b[0m     \u001b[0;31m# Ensure we have a mesh and attach to measure\u001b[0m\u001b[0;34m\u001b[0m\u001b[0;34m\u001b[0m\u001b[0m\n\u001b[1;32m    121\u001b[0m     \u001b[0;32mif\u001b[0m \u001b[0mmesh\u001b[0m \u001b[0;32mis\u001b[0m \u001b[0;32mNone\u001b[0m\u001b[0;34m:\u001b[0m\u001b[0;34m\u001b[0m\u001b[0m\n\u001b[0;32m--> 122\u001b[0;31m         \u001b[0mmesh\u001b[0m \u001b[0;34m=\u001b[0m \u001b[0mV\u001b[0m\u001b[0;34m.\u001b[0m\u001b[0mmesh\u001b[0m\u001b[0;34m(\u001b[0m\u001b[0;34m)\u001b[0m\u001b[0;34m\u001b[0m\u001b[0m\n\u001b[0m\u001b[1;32m    123\u001b[0m     \u001b[0mdx\u001b[0m \u001b[0;34m=\u001b[0m \u001b[0mufl\u001b[0m\u001b[0;34m.\u001b[0m\u001b[0mdx\u001b[0m\u001b[0;34m(\u001b[0m\u001b[0mmesh\u001b[0m\u001b[0;34m)\u001b[0m\u001b[0;34m\u001b[0m\u001b[0m\n\u001b[1;32m    124\u001b[0m \u001b[0;34m\u001b[0m\u001b[0m\n",
      "\u001b[0;31mAttributeError\u001b[0m: 'tuple' object has no attribute 'mesh'"
     ]
    }
   ],
   "source": [
    "stress = dolfin.project(sigma[0],T)\n",
    "File(\"stress.pvd\") << stress\n",
    "M = stress.vector().array()\n",
    "print(M) "
   ]
  },
  {
   "cell_type": "code",
   "execution_count": 86,
   "metadata": {},
   "outputs": [
    {
     "ename": "AttributeError",
     "evalue": "'tuple' object has no attribute 'ufl_cell'",
     "output_type": "error",
     "traceback": [
      "\u001b[0;31m---------------------------------------------------------------------------\u001b[0m",
      "\u001b[0;31mAttributeError\u001b[0m                            Traceback (most recent call last)",
      "\u001b[0;32m<ipython-input-86-845fe73be13d>\u001b[0m in \u001b[0;36m<module>\u001b[0;34m\u001b[0m\n\u001b[1;32m      1\u001b[0m \u001b[0mnz\u001b[0m \u001b[0;34m=\u001b[0m \u001b[0mdolfin\u001b[0m\u001b[0;34m.\u001b[0m\u001b[0mConstant\u001b[0m\u001b[0;34m(\u001b[0m\u001b[0;34m(\u001b[0m\u001b[0;36m0\u001b[0m\u001b[0;34m,\u001b[0m \u001b[0;36m1\u001b[0m\u001b[0;34m)\u001b[0m\u001b[0;34m)\u001b[0m\u001b[0;34m\u001b[0m\u001b[0m\n\u001b[0;32m----> 2\u001b[0;31m \u001b[0msurface_traction_top\u001b[0m \u001b[0;34m=\u001b[0m \u001b[0mdolfin\u001b[0m\u001b[0;34m.\u001b[0m\u001b[0mproject\u001b[0m\u001b[0;34m(\u001b[0m\u001b[0mdolfin\u001b[0m\u001b[0;34m.\u001b[0m\u001b[0mdot\u001b[0m\u001b[0;34m(\u001b[0m\u001b[0msigma\u001b[0m\u001b[0;34m[\u001b[0m\u001b[0;36m0\u001b[0m\u001b[0;34m]\u001b[0m\u001b[0;34m,\u001b[0m\u001b[0mnz\u001b[0m\u001b[0;34m)\u001b[0m\u001b[0;34m,\u001b[0m \u001b[0mdolfin\u001b[0m\u001b[0;34m.\u001b[0m\u001b[0mVectorFunctionSpace\u001b[0m\u001b[0;34m(\u001b[0m\u001b[0mmesh\u001b[0m\u001b[0;34m,\u001b[0m\u001b[0;34m'DG'\u001b[0m\u001b[0;34m,\u001b[0m\u001b[0;36m1\u001b[0m\u001b[0;34m)\u001b[0m\u001b[0;34m)\u001b[0m\u001b[0;34m\u001b[0m\u001b[0m\n\u001b[0m\u001b[1;32m      3\u001b[0m \u001b[0msurface_traction_top_normal\u001b[0m \u001b[0;34m=\u001b[0m \u001b[0mdolfin\u001b[0m\u001b[0;34m.\u001b[0m\u001b[0mproject\u001b[0m\u001b[0;34m(\u001b[0m\u001b[0mdolfin\u001b[0m\u001b[0;34m.\u001b[0m\u001b[0mdot\u001b[0m\u001b[0;34m(\u001b[0m\u001b[0mdolfin\u001b[0m\u001b[0;34m.\u001b[0m\u001b[0mdot\u001b[0m\u001b[0;34m(\u001b[0m\u001b[0msigma\u001b[0m\u001b[0;34m[\u001b[0m\u001b[0;36m0\u001b[0m\u001b[0;34m]\u001b[0m\u001b[0;34m,\u001b[0m\u001b[0mnz\u001b[0m\u001b[0;34m)\u001b[0m\u001b[0;34m,\u001b[0m\u001b[0mnz\u001b[0m\u001b[0;34m)\u001b[0m\u001b[0;34m,\u001b[0m \u001b[0mdolfin\u001b[0m\u001b[0;34m.\u001b[0m\u001b[0mFunctionSpace\u001b[0m\u001b[0;34m(\u001b[0m\u001b[0mmesh\u001b[0m\u001b[0;34m,\u001b[0m\u001b[0;34m'DG'\u001b[0m\u001b[0;34m,\u001b[0m\u001b[0;36m1\u001b[0m\u001b[0;34m)\u001b[0m\u001b[0;34m)\u001b[0m\u001b[0;34m\u001b[0m\u001b[0m\n",
      "\u001b[0;32m/usr/lib/python3/dist-packages/dolfin/function/functionspace.py\u001b[0m in \u001b[0;36mVectorFunctionSpace\u001b[0;34m(mesh, family, degree, dim, form_degree, constrained_domain, restriction)\u001b[0m\n\u001b[1;32m    216\u001b[0m \u001b[0;34m\u001b[0m\u001b[0m\n\u001b[1;32m    217\u001b[0m     \u001b[0;31m# Create UFL element\u001b[0m\u001b[0;34m\u001b[0m\u001b[0;34m\u001b[0m\u001b[0m\n\u001b[0;32m--> 218\u001b[0;31m     element = ufl.VectorElement(family, mesh.ufl_cell(), degree,\n\u001b[0m\u001b[1;32m    219\u001b[0m                                 form_degree=form_degree, dim=dim)\n\u001b[1;32m    220\u001b[0m \u001b[0;34m\u001b[0m\u001b[0m\n",
      "\u001b[0;31mAttributeError\u001b[0m: 'tuple' object has no attribute 'ufl_cell'"
     ]
    }
   ],
   "source": [
    "nz = dolfin.Constant((0, 1))\n",
    "surface_traction_top = dolfin.project(dolfin.dot(sigma[0],nz), dolfin.VectorFunctionSpace(mesh,'DG',1))\n",
    "surface_traction_top_normal = dolfin.project(dolfin.dot(dolfin.dot(sigma[0],nz),nz), dolfin.FunctionSpace(mesh,'DG',1))"
   ]
  },
  {
   "cell_type": "code",
   "execution_count": 54,
   "metadata": {},
   "outputs": [],
   "source": [
    "def fe_solution_mixte(ndiv,pars_fe):\n",
    "    \n",
    "    # Test for PETSc or Tpetra\n",
    "    if not dolfin.has_linear_algebra_backend(\"PETSc\") and not has_linear_algebra_backend(\"Tpetra\"):\n",
    "        info(\"DOLFIN has not been configured with Trilinos or PETSc. Exiting.\")\n",
    "        exit()\n",
    "\n",
    "    if not dolfin.has_krylov_solver_preconditioner(\"amg\"):\n",
    "        info(\"Sorry, this demo is only available when DOLFIN is compiled with AMG \"\n",
    "         \"preconditioner, Hypre or ML.\")\n",
    "        exit()\n",
    "\n",
    "    if dolfin.has_krylov_solver_method(\"minres\"):\n",
    "        krylov_method = \"minres\"\n",
    "    elif has_krylov_solver_method(\"tfqmr\"):\n",
    "        krylov_method = \"tfqmr\"\n",
    "    else:\n",
    "        info(\"Default linear algebra backend was not compiled with MINRES or TFQMR \"\n",
    "         \"Krylov subspace method. Terminating.\")\n",
    "        exit()\n",
    "    \n",
    "    def eps(u):\n",
    "        return dolfin.sym(dolfin.grad(u))\n",
    "    \n",
    "    def sig(epsilon):\n",
    "        return 2*mu*epsilon + lmbda*dolfin.tr(epsilon)*dolfin.Identity(ndim)\n",
    "    \n",
    "    def sig_devi(sigma):\n",
    "        return sigma-((1./3.)*dolfin.tr(sigma)*dolfin.Identity(ndim))\n",
    "    \n",
    "    def sig_isot(sigma):\n",
    "        return (1./3.)*dolfin.tr(sigma)*dolfin.Identity(ndim)\n",
    "    r=1.\n",
    "    h=pars_fe['thickness']/ndiv\n",
    "    rho=pars_fe['thickness']/r\n",
    "    nu = pars_fe['nu']\n",
    "    pars = {\"h\": h, \"rho\": rho}\n",
    "    \n",
    "    meshname = mesher.generate_mesh_gmsh_tube(\"meshes/tube\", pars)\n",
    "    mesh = dolfin.Mesh(meshname + \".xml\")\n",
    "    boundaries = dolfin.MeshFunction(\"size_t\", mesh, meshname + \"_facet_region\"+\".xml\")\n",
    "    domains = dolfin.MeshFunction(\"size_t\", mesh, meshname + \"_physical_region\"+\".xml\")\n",
    "\n",
    "    dolfin.File(os.path.join(os.path.dirname(meshname), \"boundaries.pvd\")) << boundaries\n",
    "    dolfin.File(os.path.join(os.path.dirname(meshname), \"domains.pvd\")) << domains\n",
    "\n",
    "    with dolfin.XDMFFile(mesh.mpi_comm(), \"output/boundaries.xdmf\") as file: \n",
    "        file.write(boundaries)\n",
    "\n",
    "    # Elasticity parameters\n",
    "    E=dolfin.Constant(1.)\n",
    "\n",
    "    mu = (E)/(2*(1.0+nu))\n",
    "    lmbda = (E*nu)/((1.0+nu)*(1.0-2.0*nu))\n",
    "    \n",
    "    # Stress / Strain\n",
    "    ndim = 2\n",
    "\n",
    "    \n",
    "    # Create element\n",
    "    element = dolfin.VectorElement(\"P\", dolfin.triangle, pars_fe['degree'], dim=2)\n",
    "    #dim c'est dimension des inconnu nodale ux et uy\n",
    "\n",
    "    # Create function space\n",
    "    V = dolfin.FunctionSpace(mesh, element)\n",
    "    P2 = dolfin.VectorElement(\"Lagrange\", mesh.ufl_cell(), 2)\n",
    "    P1 = dolfin.FiniteElement(\"Lagrange\", mesh.ufl_cell(), 1)\n",
    "    TH = P2 * P1\n",
    "    W = dolfin.FunctionSpace(mesh, TH)\n",
    "    \n",
    "    #element = dolfin.VectorElement(\"P\", dolfin.triangle, pars_fe['degree'], dim=2)\n",
    "    #W = dolfin.FunctionSpace(mesh, element)\n",
    "    \n",
    "    # Create test and trial functions, and source term\n",
    "    #u_ = dolfin.TrialFunction(V)\n",
    "    #v = dolfin.TestFunction(V)\n",
    "    \n",
    "    f = dolfin.Constant((0.0, 0.0))\n",
    "        \n",
    "    (u_, p) = dolfin.TrialFunctions(W)\n",
    "    (v, q) = dolfin.TestFunctions(W)\n",
    "    a = dolfin.inner(sig(eps(u_)), eps(v))*dolfin.dx \n",
    "    L = dolfin.inner(f, v)*dolfin.dx\n",
    "\n",
    "\n",
    "    # Define the bilinear form for the problem\n",
    "    #a = dolfin.inner(sig(eps(u_)), eps(v))*dolfin.dx \n",
    "\n",
    "    # Parameters\n",
    "    p_out = dolfin.Constant(0.)\n",
    "    p_in = dolfin.Constant(1.)\n",
    "    ds = dolfin.Measure(\"ds\", subdomain_data=boundaries)\n",
    "    #ds element de surface mais ici prend boundaries en parametre\n",
    "    #boundarises renvoi pour chaque élément \n",
    "    #1,2,3 ou 4 en fonction de son appartenance au bord\n",
    "    n = dolfin.FacetNormal(mesh)\n",
    "\n",
    "    # Weak formulation\n",
    "    L = dolfin.inner(-p_in*n, v)*ds(4)+dolfin.inner(-p_out*n, v)*ds(2)\n",
    "\n",
    "    bcs = [dolfin.DirichletBC(W.sub(0), 0., boundaries, 3),\n",
    "           dolfin.DirichletBC(W.sub(1), 0., boundaries, 1)]\n",
    "    \n",
    "    b = dolfin.inner(dolfin.grad(u_), dolfin.grad(v))*dolfin.dx + p*q*dolfin.dx\n",
    "    \n",
    "    A, bb = dolfin.assemble_system(a, L, bcs)\n",
    "    P, btmp = dolfin.assemble_system(b, L, bcs)\n",
    "    \n",
    "    solver = dolfin.KrylovSolver(krylov_method, \"amg\")\n",
    "    solver.set_operators(A, P)\n",
    "    u_num = dolfin.Function(W)\n",
    "    solver.solve(u_num.vector(), bb)\n",
    "\n",
    "    # Set up PDE and solve\n",
    "    #u_num = dolfin.Function(V)\n",
    "    #problem = dolfin.LinearVariationalProblem(a, L, u_num, bcs)\n",
    "    # solver\n",
    "    #solver = dolfin.LinearVariationalSolver(problem)\n",
    "    #  define le solver ex: LU ou gradient\n",
    "    #solver.solve()\n",
    "    #pars_ex = {\"thickness\": 0.5, \"nu\": 0.3, \"pin\": 1., \"pout\": 0}\n",
    "    #u_exact= exact_solution(pars_fe['degree'],pars_ex)\n",
    "    #error_h1 = dolfin.errornorm(u_exact, u_num, norm_type = \"H1\")\n",
    "    #error_L2 = dolfin.errornorm(u_exact, u_num, norm_type = \"L2\")\n",
    "\n",
    "    return 1.0 / ndiv , error_h1 , error_L2\n"
   ]
  },
  {
   "cell_type": "code",
   "execution_count": 55,
   "metadata": {},
   "outputs": [
    {
     "ename": "RuntimeError",
     "evalue": "\n\n*** -------------------------------------------------------------------------\n*** DOLFIN encountered an error. If you are not able to resolve this issue\n*** using the information listed below, you can ask for help at\n***\n***     fenics-support@googlegroups.com\n***\n*** Remember to include the error message listed below and, if possible,\n*** include a *minimal* running example to reproduce the error.\n***\n*** -------------------------------------------------------------------------\n*** Error:   Unable to create Dirichlet boundary condition.\n*** Reason:  Expecting a vector-valued boundary value but given function is scalar.\n*** Where:   This error was encountered inside DirichletBC.cpp.\n*** Process: 0\n*** \n*** DOLFIN version: 2018.1.0\n*** Git changeset:  unknown\n*** -------------------------------------------------------------------------\n",
     "output_type": "error",
     "traceback": [
      "\u001b[0;31m---------------------------------------------------------------------------\u001b[0m",
      "\u001b[0;31mRuntimeError\u001b[0m                              Traceback (most recent call last)",
      "\u001b[0;32m<ipython-input-55-d6ba39d24974>\u001b[0m in \u001b[0;36m<module>\u001b[0;34m\u001b[0m\n\u001b[1;32m      1\u001b[0m \u001b[0mpars_fe\u001b[0m \u001b[0;34m=\u001b[0m \u001b[0;34m{\u001b[0m\u001b[0;34m\"thickness\"\u001b[0m\u001b[0;34m:\u001b[0m \u001b[0;36m0.5\u001b[0m\u001b[0;34m,\u001b[0m \u001b[0;34m\"degree\"\u001b[0m\u001b[0;34m:\u001b[0m \u001b[0;36m1\u001b[0m\u001b[0;34m,\u001b[0m \u001b[0;34m\"nu\"\u001b[0m\u001b[0;34m:\u001b[0m \u001b[0;36m0.3\u001b[0m\u001b[0;34m}\u001b[0m\u001b[0;34m\u001b[0m\u001b[0m\n\u001b[0;32m----> 2\u001b[0;31m \u001b[0ma_P22\u001b[0m\u001b[0;34m,\u001b[0m \u001b[0merreurH1_P22\u001b[0m\u001b[0;34m,\u001b[0m \u001b[0merreurL2_P22\u001b[0m \u001b[0;34m=\u001b[0m \u001b[0mzip\u001b[0m\u001b[0;34m(\u001b[0m\u001b[0;34m*\u001b[0m\u001b[0;34m[\u001b[0m\u001b[0mfe_solution_mixte\u001b[0m\u001b[0;34m(\u001b[0m\u001b[0mn\u001b[0m\u001b[0;34m,\u001b[0m \u001b[0mpars_fe\u001b[0m\u001b[0;34m)\u001b[0m \u001b[0;32mfor\u001b[0m \u001b[0mn\u001b[0m \u001b[0;32min\u001b[0m \u001b[0;34m[\u001b[0m\u001b[0;36m2\u001b[0m\u001b[0;34m]\u001b[0m\u001b[0;34m]\u001b[0m\u001b[0;34m)\u001b[0m\u001b[0;34m\u001b[0m\u001b[0m\n\u001b[0m",
      "\u001b[0;32m<ipython-input-55-d6ba39d24974>\u001b[0m in \u001b[0;36m<listcomp>\u001b[0;34m(.0)\u001b[0m\n\u001b[1;32m      1\u001b[0m \u001b[0mpars_fe\u001b[0m \u001b[0;34m=\u001b[0m \u001b[0;34m{\u001b[0m\u001b[0;34m\"thickness\"\u001b[0m\u001b[0;34m:\u001b[0m \u001b[0;36m0.5\u001b[0m\u001b[0;34m,\u001b[0m \u001b[0;34m\"degree\"\u001b[0m\u001b[0;34m:\u001b[0m \u001b[0;36m1\u001b[0m\u001b[0;34m,\u001b[0m \u001b[0;34m\"nu\"\u001b[0m\u001b[0;34m:\u001b[0m \u001b[0;36m0.3\u001b[0m\u001b[0;34m}\u001b[0m\u001b[0;34m\u001b[0m\u001b[0m\n\u001b[0;32m----> 2\u001b[0;31m \u001b[0ma_P22\u001b[0m\u001b[0;34m,\u001b[0m \u001b[0merreurH1_P22\u001b[0m\u001b[0;34m,\u001b[0m \u001b[0merreurL2_P22\u001b[0m \u001b[0;34m=\u001b[0m \u001b[0mzip\u001b[0m\u001b[0;34m(\u001b[0m\u001b[0;34m*\u001b[0m\u001b[0;34m[\u001b[0m\u001b[0mfe_solution_mixte\u001b[0m\u001b[0;34m(\u001b[0m\u001b[0mn\u001b[0m\u001b[0;34m,\u001b[0m \u001b[0mpars_fe\u001b[0m\u001b[0;34m)\u001b[0m \u001b[0;32mfor\u001b[0m \u001b[0mn\u001b[0m \u001b[0;32min\u001b[0m \u001b[0;34m[\u001b[0m\u001b[0;36m2\u001b[0m\u001b[0;34m]\u001b[0m\u001b[0;34m]\u001b[0m\u001b[0;34m)\u001b[0m\u001b[0;34m\u001b[0m\u001b[0m\n\u001b[0m",
      "\u001b[0;32m<ipython-input-54-b9bacc08821a>\u001b[0m in \u001b[0;36mfe_solution_mixte\u001b[0;34m(ndiv, pars_fe)\u001b[0m\n\u001b[1;32m     99\u001b[0m     \u001b[0mL\u001b[0m \u001b[0;34m=\u001b[0m \u001b[0mdolfin\u001b[0m\u001b[0;34m.\u001b[0m\u001b[0minner\u001b[0m\u001b[0;34m(\u001b[0m\u001b[0;34m-\u001b[0m\u001b[0mp_in\u001b[0m\u001b[0;34m*\u001b[0m\u001b[0mn\u001b[0m\u001b[0;34m,\u001b[0m \u001b[0mv\u001b[0m\u001b[0;34m)\u001b[0m\u001b[0;34m*\u001b[0m\u001b[0mds\u001b[0m\u001b[0;34m(\u001b[0m\u001b[0;36m4\u001b[0m\u001b[0;34m)\u001b[0m\u001b[0;34m+\u001b[0m\u001b[0mdolfin\u001b[0m\u001b[0;34m.\u001b[0m\u001b[0minner\u001b[0m\u001b[0;34m(\u001b[0m\u001b[0;34m-\u001b[0m\u001b[0mp_out\u001b[0m\u001b[0;34m*\u001b[0m\u001b[0mn\u001b[0m\u001b[0;34m,\u001b[0m \u001b[0mv\u001b[0m\u001b[0;34m)\u001b[0m\u001b[0;34m*\u001b[0m\u001b[0mds\u001b[0m\u001b[0;34m(\u001b[0m\u001b[0;36m2\u001b[0m\u001b[0;34m)\u001b[0m\u001b[0;34m\u001b[0m\u001b[0m\n\u001b[1;32m    100\u001b[0m \u001b[0;34m\u001b[0m\u001b[0m\n\u001b[0;32m--> 101\u001b[0;31m     bcs = [dolfin.DirichletBC(W.sub(0), 0., boundaries, 3),\n\u001b[0m\u001b[1;32m    102\u001b[0m            dolfin.DirichletBC(W.sub(1), 0., boundaries, 1)]\n\u001b[1;32m    103\u001b[0m \u001b[0;34m\u001b[0m\u001b[0m\n",
      "\u001b[0;32m/usr/lib/python3/dist-packages/dolfin/fem/dirichletbc.py\u001b[0m in \u001b[0;36m__init__\u001b[0;34m(self, *args, **kwargs)\u001b[0m\n\u001b[1;32m    129\u001b[0m             \u001b[0;32mraise\u001b[0m \u001b[0mRuntimeError\u001b[0m\u001b[0;34m(\u001b[0m\u001b[0;34m\"Invalid keyword arguments\"\u001b[0m\u001b[0;34m,\u001b[0m \u001b[0mkwargs\u001b[0m\u001b[0;34m)\u001b[0m\u001b[0;34m\u001b[0m\u001b[0m\n\u001b[1;32m    130\u001b[0m \u001b[0;34m\u001b[0m\u001b[0m\n\u001b[0;32m--> 131\u001b[0;31m         \u001b[0msuper\u001b[0m\u001b[0;34m(\u001b[0m\u001b[0;34m)\u001b[0m\u001b[0;34m.\u001b[0m\u001b[0m__init__\u001b[0m\u001b[0;34m(\u001b[0m\u001b[0;34m*\u001b[0m\u001b[0margs\u001b[0m\u001b[0;34m)\u001b[0m\u001b[0;34m\u001b[0m\u001b[0m\n\u001b[0m",
      "\u001b[0;31mRuntimeError\u001b[0m: \n\n*** -------------------------------------------------------------------------\n*** DOLFIN encountered an error. If you are not able to resolve this issue\n*** using the information listed below, you can ask for help at\n***\n***     fenics-support@googlegroups.com\n***\n*** Remember to include the error message listed below and, if possible,\n*** include a *minimal* running example to reproduce the error.\n***\n*** -------------------------------------------------------------------------\n*** Error:   Unable to create Dirichlet boundary condition.\n*** Reason:  Expecting a vector-valued boundary value but given function is scalar.\n*** Where:   This error was encountered inside DirichletBC.cpp.\n*** Process: 0\n*** \n*** DOLFIN version: 2018.1.0\n*** Git changeset:  unknown\n*** -------------------------------------------------------------------------\n"
     ]
    }
   ],
   "source": [
    "pars_fe = {\"thickness\": 0.5, \"degree\": 1, \"nu\": 0.3}\n",
    "a_P22, erreurH1_P22, erreurL2_P22 = zip(*[fe_solution_mixte(n, pars_fe) for n in [2]])"
   ]
  },
  {
   "cell_type": "code",
   "execution_count": null,
   "metadata": {},
   "outputs": [],
   "source": []
  }
 ],
 "metadata": {
  "kernelspec": {
   "display_name": "Python 3",
   "language": "python",
   "name": "python3"
  },
  "language_info": {
   "codemirror_mode": {
    "name": "ipython",
    "version": 3
   },
   "file_extension": ".py",
   "mimetype": "text/x-python",
   "name": "python",
   "nbconvert_exporter": "python",
   "pygments_lexer": "ipython3",
   "version": "3.6.7"
  }
 },
 "nbformat": 4,
 "nbformat_minor": 2
}
